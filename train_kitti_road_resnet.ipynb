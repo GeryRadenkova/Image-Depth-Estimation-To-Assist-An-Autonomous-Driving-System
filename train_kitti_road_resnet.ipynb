{
 "cells": [
  {
   "cell_type": "code",
   "execution_count": 2,
   "id": "0f77dba3-f781-4fff-995d-f245a5af41a9",
   "metadata": {},
   "outputs": [],
   "source": [
    "HEIGHT = 128\n",
    "WIDTH = 128\n",
    "EPOCHS = 8\n",
    "BATCH_SIZE = 16\n",
    "TRAIN_CSV = \"D:/kitti_dataset/train/kitti_train.csv\""
   ]
  },
  {
   "cell_type": "code",
   "execution_count": 3,
   "id": "edb24f1f-9255-4b90-b82d-1f996824bdbb",
   "metadata": {},
   "outputs": [
    {
     "name": "stdout",
     "output_type": "stream",
     "text": [
      "Segmentation Models: using `keras` framework.\n"
     ]
    }
   ],
   "source": [
    "import numpy as np\n",
    "import tensorflow as tf\n",
    "from segmentation_models import Unet\n",
    "\n",
    "%run utils/datasets.ipynb\n",
    "\n",
    "%run utils/utils.ipynb"
   ]
  },
  {
   "cell_type": "code",
   "execution_count": 4,
   "id": "f9dd48f4-86fa-4145-b835-f74041e8d203",
   "metadata": {},
   "outputs": [],
   "source": [
    "partition, labels = load_train_csv(TRAIN_CSV)"
   ]
  },
  {
   "cell_type": "code",
   "execution_count": 5,
   "id": "c88d53d4-d4ac-4b25-9852-f5fad9f298b3",
   "metadata": {},
   "outputs": [],
   "source": [
    "# partition['train'] = partition['train'][:20000]\n",
    "# partition['validation'] = partition['validation'][:5000]"
   ]
  },
  {
   "cell_type": "code",
   "execution_count": 6,
   "id": "c07869e2-da84-4f4f-ab39-c7af3385b889",
   "metadata": {},
   "outputs": [
    {
     "name": "stdout",
     "output_type": "stream",
     "text": [
      "4539 1135\n"
     ]
    }
   ],
   "source": [
    "print(len(partition['train']), len(partition['validation']))"
   ]
  },
  {
   "cell_type": "code",
   "execution_count": 7,
   "id": "60f53e49-a05a-4970-8024-dc137ee6fccf",
   "metadata": {},
   "outputs": [],
   "source": [
    "training_generator = DataGenerator(list_IDs=partition['train'], labels=labels, batch_size=BATCH_SIZE,\n",
    "                                   dim=(HEIGHT, WIDTH), n_channels=3, shuffle=True, pred=False)\n",
    "validation_generator = DataGenerator(list_IDs=partition['validation'], labels=labels, batch_size=BATCH_SIZE,\n",
    "                                     dim=(HEIGHT, WIDTH), n_channels=3, shuffle=True, pred=False)"
   ]
  },
  {
   "cell_type": "code",
   "execution_count": 8,
   "id": "8f9f613c-174d-400e-9664-2e56377ca0ca",
   "metadata": {},
   "outputs": [],
   "source": [
    "model = Unet(\"resnet34\", input_shape=(HEIGHT,WIDTH,3), encoder_weights=\"imagenet\", encoder_freeze=False)"
   ]
  },
  {
   "cell_type": "code",
   "execution_count": 9,
   "id": "db5ebe1a-636a-40b5-be43-089078a0cd47",
   "metadata": {},
   "outputs": [],
   "source": [
    "# model.summary()"
   ]
  },
  {
   "cell_type": "code",
   "execution_count": 10,
   "id": "33fe2363-7db9-4251-be78-56c1c51f9236",
   "metadata": {},
   "outputs": [],
   "source": [
    "model.compile(optimizer=opt,\n",
    "              loss=lambda y_true, y_pred : gen_depth_loss(y_true, y_pred, (1.0, 3.0, 0.1)),\n",
    "              metrics=[depth_acc])"
   ]
  },
  {
   "cell_type": "code",
   "execution_count": 11,
   "id": "27d871dd-fbde-4be0-9bf0-e826d10da3c3",
   "metadata": {},
   "outputs": [
    {
     "name": "stdout",
     "output_type": "stream",
     "text": [
      "Epoch 1/8\n",
      "283/283 [==============================] - 239s 804ms/step - loss: 0.2520 - depth_acc: 0.8983 - val_loss: 0.2229 - val_depth_acc: 0.8316\n",
      "Epoch 2/8\n",
      "283/283 [==============================] - 53s 186ms/step - loss: 0.1371 - depth_acc: 0.9463 - val_loss: 0.1823 - val_depth_acc: 0.8148\n",
      "Epoch 3/8\n",
      "283/283 [==============================] - 51s 178ms/step - loss: 0.1296 - depth_acc: 0.9544 - val_loss: 0.1363 - val_depth_acc: 0.9294\n",
      "Epoch 4/8\n",
      "283/283 [==============================] - 51s 180ms/step - loss: 0.1250 - depth_acc: 0.9594 - val_loss: 0.1239 - val_depth_acc: 0.9599\n",
      "Epoch 5/8\n",
      "283/283 [==============================] - 52s 182ms/step - loss: 0.1217 - depth_acc: 0.9627 - val_loss: 0.1198 - val_depth_acc: 0.9639\n",
      "Epoch 6/8\n",
      "283/283 [==============================] - 53s 188ms/step - loss: 0.1188 - depth_acc: 0.9659 - val_loss: 0.1173 - val_depth_acc: 0.9666\n",
      "Epoch 7/8\n",
      "283/283 [==============================] - 51s 180ms/step - loss: 0.1163 - depth_acc: 0.9685 - val_loss: 0.1158 - val_depth_acc: 0.9692\n",
      "Epoch 8/8\n",
      "283/283 [==============================] - 56s 196ms/step - loss: 0.1144 - depth_acc: 0.9694 - val_loss: 0.1141 - val_depth_acc: 0.9707\n"
     ]
    }
   ],
   "source": [
    "r = model.fit(training_generator, validation_data=validation_generator, epochs=EPOCHS)"
   ]
  },
  {
   "cell_type": "code",
   "execution_count": 12,
   "id": "a0abaa59-ff2b-43b1-a0df-2e1c4acfe634",
   "metadata": {},
   "outputs": [
    {
     "name": "stdout",
     "output_type": "stream",
     "text": [
      "{'loss': [0.2519926428794861, 0.1370539516210556, 0.12959975004196167, 0.12504824995994568, 0.12174130231142044, 0.11880454421043396, 0.1162961795926094, 0.1144053041934967], 'depth_acc': [0.8983240127563477, 0.9463152885437012, 0.9543931484222412, 0.9593793749809265, 0.9627403020858765, 0.9659269452095032, 0.9685223698616028, 0.9694343209266663], 'val_loss': [0.22293369472026825, 0.18234403431415558, 0.13628697395324707, 0.12390381842851639, 0.11979089677333832, 0.11734326183795929, 0.11582958698272705, 0.11407630145549774], 'val_depth_acc': [0.831636905670166, 0.8147809505462646, 0.9294130802154541, 0.9598809480667114, 0.9638532400131226, 0.9665511846542358, 0.9692345857620239, 0.9707146883010864]}\n"
     ]
    }
   ],
   "source": [
    "print(r.history)"
   ]
  },
  {
   "cell_type": "code",
   "execution_count": 13,
   "id": "f2592a49-f164-4c71-9196-a7dfb11da01e",
   "metadata": {},
   "outputs": [
    {
     "data": {
      "image/png": "[encoded data removed]",
      "text/plain": [
       "<Figure size 640x480 with 1 Axes>"
      ]
     },
     "metadata": {},
     "output_type": "display_data"
    }
   ],
   "source": [
    "plot_history(r.history)"
   ]
  },
  {
   "cell_type": "code",
   "execution_count": 14,
   "id": "f3da1064-0f60-421d-b1f2-6e58d77416d9",
   "metadata": {},
   "outputs": [
    {
     "name": "stdout",
     "output_type": "stream",
     "text": [
      "model_kitti_resnet_1716910504.keras\n"
     ]
    }
   ],
   "source": [
    "print(save_model('kitti_resnet', model))"
   ]
  }
 ],
 "metadata": {
  "kernelspec": {
   "display_name": "Python 3 (ipykernel)",
   "language": "python",
   "name": "python3"
  },
  "language_info": {
   "codemirror_mode": {
    "name": "ipython",
    "version": 3
   },
   "file_extension": ".py",
   "mimetype": "text/x-python",
   "name": "python",
   "nbconvert_exporter": "python",
   "pygments_lexer": "ipython3",
   "version": "3.9.19"
  }
 },
 "nbformat": 4,
 "nbformat_minor": 5
}
