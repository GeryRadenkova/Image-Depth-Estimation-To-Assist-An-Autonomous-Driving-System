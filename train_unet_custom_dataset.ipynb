{
 "cells": [
  {
   "cell_type": "code",
   "execution_count": 1,
   "id": "d92e849f-c895-4e77-bc7d-f3ef1147f43e",
   "metadata": {},
   "outputs": [],
   "source": [
    "WIDTH = 320\n",
    "HEIGHT = 240\n",
    "EPOCHS = 8\n",
    "BATCH_SIZE = 8\n",
    "TRAIN_CSV = \"D:/dataset/train/data_train.csv\""
   ]
  },
  {
   "cell_type": "code",
   "execution_count": 2,
   "id": "73b9580f-2ce8-49aa-8bfb-1a5a7d4a11b6",
   "metadata": {},
   "outputs": [],
   "source": [
    "import numpy as np\n",
    "import tensorflow as tf\n",
    "from tensorflow.keras.layers import Input, Conv2D, MaxPooling2D, LeakyReLU, BatchNormalization, UpSampling2D, concatenate\n",
    "from tensorflow.keras.models import Model\n",
    "from tensorflow.keras.callbacks import LearningRateScheduler\n",
    "\n",
    "%run utils/datasets.ipynb\n",
    "%run utils/utils.ipynb"
   ]
  },
  {
   "cell_type": "code",
   "execution_count": 3,
   "id": "c8db681d-9b43-4b4d-80f3-b444ce7146bb",
   "metadata": {},
   "outputs": [],
   "source": [
    "partition, labels = load_train_csv(TRAIN_CSV)"
   ]
  },
  {
   "cell_type": "code",
   "execution_count": 4,
   "id": "d140c3fe-3c69-415d-b455-4a15d711933d",
   "metadata": {},
   "outputs": [],
   "source": [
    "partition['train'] = partition['train'][:20000]\n",
    "partition['validation'] = partition['validation'][:5000]"
   ]
  },
  {
   "cell_type": "code",
   "execution_count": 5,
   "id": "1546dace-0e45-43ab-b0ab-b9fc964f2ff0",
   "metadata": {},
   "outputs": [
    {
     "name": "stdout",
     "output_type": "stream",
     "text": [
      "7532 1884\n"
     ]
    }
   ],
   "source": [
    "print(len(partition['train']), len(partition['validation']))"
   ]
  },
  {
   "cell_type": "code",
   "execution_count": 6,
   "id": "da73aabd-75ef-40c2-9cab-6ce381d38a24",
   "metadata": {},
   "outputs": [],
   "source": [
    "training_generator = DataGenerator(list_IDs=partition['train'], labels=labels, batch_size=BATCH_SIZE,\n",
    "                                   dim=(HEIGHT, WIDTH), n_channels=3, shuffle=True, pred=False)\n",
    "validation_generator = DataGenerator(list_IDs=partition['validation'], labels=labels, batch_size=BATCH_SIZE,\n",
    "                                     dim=(HEIGHT, WIDTH), n_channels=3, shuffle=True, pred=False)"
   ]
  },
  {
   "cell_type": "code",
   "execution_count": 7,
   "id": "8ee3fca6-072c-4634-994b-448cf0cca16b",
   "metadata": {},
   "outputs": [],
   "source": [
    "def downsampling_block(input_tensor, n_filters):\n",
    "    x = Conv2D(filters=n_filters, kernel_size=(3,3), padding='same')(input_tensor)\n",
    "    x = LeakyReLU(alpha=0.2)(x)\n",
    "    x = BatchNormalization()(x)\n",
    "\n",
    "    x = Conv2D(filters=n_filters, kernel_size=(3,3), padding='same')(x)\n",
    "    x = LeakyReLU(alpha=0.2)(x)\n",
    "    x = BatchNormalization()(x)\n",
    "    return x\n",
    "\n",
    "def upsampling_block(input_tensor, n_filters, name, concat_with):\n",
    "    x = UpSampling2D((2, 2), interpolation='bilinear', name=name)(input_tensor)\n",
    "    x = Conv2D(filters=n_filters, kernel_size=(3, 3), padding='same', name=name+\"_convA\")(x)\n",
    "    x = LeakyReLU(alpha=0.2)(x)\n",
    "\n",
    "    x = concatenate([x, concat_with], axis=3)\n",
    "\n",
    "    x = Conv2D(filters=n_filters, kernel_size=(3, 3), padding='same', name=name+\"_convB\")(x)\n",
    "    x = LeakyReLU(alpha=0.2)(x)\n",
    "    x = BatchNormalization()(x)\n",
    "\n",
    "    x = Conv2D(filters=n_filters, kernel_size=(3, 3), padding='same', name=name+\"_convC\")(x)\n",
    "    x = LeakyReLU(alpha=0.2)(x)\n",
    "    x = BatchNormalization()(x)\n",
    "    return x"
   ]
  },
  {
   "cell_type": "code",
   "execution_count": 8,
   "id": "29052a9a-2aa9-410d-bc7d-0c7dc3bca12d",
   "metadata": {},
   "outputs": [],
   "source": [
    "def build(height, width, depth):\n",
    "    # input\n",
    "    i = Input(shape=(height, width, depth))\n",
    "\n",
    "    # encoder\n",
    "    conv1 = downsampling_block(i, 32)\n",
    "    pool1 = MaxPooling2D(pool_size=(2, 2))(conv1)\n",
    "    conv2 = downsampling_block(pool1, 64)\n",
    "    pool2 = MaxPooling2D(pool_size=(2, 2))(conv2)\n",
    "    conv3 = downsampling_block(pool2, 128)\n",
    "    pool3 = MaxPooling2D(pool_size=(2, 2))(conv3)\n",
    "    conv4 = downsampling_block(pool3, 256)\n",
    "    pool4 = MaxPooling2D(pool_size=(2, 2))(conv4)\n",
    "    \n",
    "    # bottleneck\n",
    "    conv5 = Conv2D(512, (3, 3), padding='same')(pool4)\n",
    "    conv5 = LeakyReLU(alpha=0.2)(conv5)\n",
    "    conv5 = Conv2D(512, (3, 3), padding='same')(conv5)\n",
    "    conv5 = LeakyReLU(alpha=0.2)(conv5)\n",
    "    \n",
    "    # decoder\n",
    "    conv6 = upsampling_block(conv5, 256, \"up1\", concat_with=conv4)\n",
    "    conv7 = upsampling_block(conv6, 128, \"up2\", concat_with=conv3)\n",
    "    conv8 = upsampling_block(conv7, 64, \"up3\", concat_with=conv2)\n",
    "    conv9 = upsampling_block(conv8, 32, \"up4\", concat_with=conv1)\n",
    "    \n",
    "    # output\n",
    "    o = Conv2D(filters=1, kernel_size=3, strides=(1,1), activation='sigmoid', padding='same', name='conv10')(conv9)\n",
    "\n",
    "    model = Model(inputs=i, outputs=o)\n",
    "    return model"
   ]
  },
  {
   "cell_type": "code",
   "execution_count": 9,
   "id": "4f1d4423-153f-4dc6-ba18-e72f490b58aa",
   "metadata": {},
   "outputs": [],
   "source": [
    "model = build(HEIGHT, WIDTH, 3)"
   ]
  },
  {
   "cell_type": "code",
   "execution_count": 10,
   "id": "de4dc9b6-c741-436c-93e7-f68010e22436",
   "metadata": {},
   "outputs": [],
   "source": [
    "model.compile(optimizer=opt,\n",
    "              loss=lambda y_true, y_pred : gen_depth_loss(y_true, y_pred, (1.0,1.0,0.1)),\n",
    "              metrics=[depth_acc])"
   ]
  },
  {
   "cell_type": "code",
   "execution_count": 11,
   "id": "6765ba25-13d9-4f14-9773-026038ba622e",
   "metadata": {},
   "outputs": [],
   "source": [
    "def poly_decay(epoch):\n",
    "    maxEpochs = EPOCHS\n",
    "    baseLR = INIT_LEARNING_RATE\n",
    "    power = 1.0\n",
    "    alpha = baseLR * (1 - (epoch / float(maxEpochs))) ** power\n",
    "    return alpha"
   ]
  },
  {
   "cell_type": "code",
   "execution_count": 12,
   "id": "c22603ac-58e7-4ddd-94f4-7d5d571416a2",
   "metadata": {},
   "outputs": [
    {
     "name": "stdout",
     "output_type": "stream",
     "text": [
      "Epoch 1/8\n",
      "941/941 [==============================] - 422s 440ms/step - loss: 0.4155 - depth_acc: 0.7480 - val_loss: 0.3979 - val_depth_acc: 0.7778 - lr: 1.0000e-04\n",
      "Epoch 2/8\n",
      "941/941 [==============================] - 414s 440ms/step - loss: 0.3837 - depth_acc: 0.8090 - val_loss: 0.3808 - val_depth_acc: 0.8258 - lr: 8.7500e-05\n",
      "Epoch 3/8\n",
      "941/941 [==============================] - 414s 440ms/step - loss: 0.3747 - depth_acc: 0.8275 - val_loss: 0.3758 - val_depth_acc: 0.8276 - lr: 7.5000e-05\n",
      "Epoch 4/8\n",
      "941/941 [==============================] - 414s 440ms/step - loss: 0.3693 - depth_acc: 0.8344 - val_loss: 0.3767 - val_depth_acc: 0.8296 - lr: 6.2500e-05\n",
      "Epoch 5/8\n",
      "941/941 [==============================] - 416s 442ms/step - loss: 0.3649 - depth_acc: 0.8411 - val_loss: 0.3684 - val_depth_acc: 0.8389 - lr: 5.0000e-05\n",
      "Epoch 6/8\n",
      "941/941 [==============================] - 415s 441ms/step - loss: 0.3608 - depth_acc: 0.8467 - val_loss: 0.3657 - val_depth_acc: 0.8438 - lr: 3.7500e-05\n",
      "Epoch 7/8\n",
      "941/941 [==============================] - 416s 442ms/step - loss: 0.3576 - depth_acc: 0.8500 - val_loss: 0.3641 - val_depth_acc: 0.8428 - lr: 2.5000e-05\n",
      "Epoch 8/8\n",
      "941/941 [==============================] - 416s 442ms/step - loss: 0.3547 - depth_acc: 0.8526 - val_loss: 0.3605 - val_depth_acc: 0.8467 - lr: 1.2500e-05\n"
     ]
    }
   ],
   "source": [
    "r = model.fit(training_generator, validation_data=validation_generator,\n",
    "              epochs=EPOCHS, callbacks=[LearningRateScheduler(poly_decay)])"
   ]
  },
  {
   "cell_type": "code",
   "execution_count": 13,
   "id": "ba6ae10c-c30a-4598-bb0b-e83efe209583",
   "metadata": {},
   "outputs": [
    {
     "name": "stdout",
     "output_type": "stream",
     "text": [
      "{'loss': [0.4155324697494507, 0.38365212082862854, 0.37472325563430786, 0.3692755401134491, 0.3648812472820282, 0.36079514026641846, 0.35759785771369934, 0.35471951961517334], 'depth_acc': [0.7479891180992126, 0.8090295195579529, 0.8274760842323303, 0.8344205617904663, 0.8411181569099426, 0.8466567397117615, 0.8499728441238403, 0.8525952696800232], 'val_loss': [0.397914856672287, 0.380764901638031, 0.37576091289520264, 0.3767492473125458, 0.3683951199054718, 0.3656909167766571, 0.36405372619628906, 0.3605172634124756], 'val_depth_acc': [0.7778262495994568, 0.8258376717567444, 0.8276231288909912, 0.829626739025116, 0.8389207124710083, 0.8437623381614685, 0.8428316712379456, 0.8467254638671875], 'lr': [1e-04, 8.75e-05, 7.5e-05, 6.25e-05, 5e-05, 3.75e-05, 2.5e-05, 1.25e-05]}\n"
     ]
    }
   ],
   "source": [
    "print(r.history)"
   ]
  },
  {
   "cell_type": "code",
   "execution_count": 14,
   "id": "850c18e8-efd2-41ec-b5e5-76b238a5b584",
   "metadata": {},
   "outputs": [
    {
     "data": {
      "image/png": "[encoded data removed]",
      "text/plain": [
       "<Figure size 640x480 with 1 Axes>"
      ]
     },
     "metadata": {},
     "output_type": "display_data"
    }
   ],
   "source": [
    "plot_history(r.history)"
   ]
  },
  {
   "cell_type": "code",
   "execution_count": 15,
   "id": "7342b547-0fbf-4f73-8940-8110ab1ba3e4",
   "metadata": {},
   "outputs": [
    {
     "name": "stdout",
     "output_type": "stream",
     "text": [
      "model_unet_custom_dataset_1719536196.keras\n"
     ]
    }
   ],
   "source": [
    "print(save_model('unet_custom_dataset', model))"
   ]
  },
  {
   "cell_type": "code",
   "execution_count": null,
   "id": "9abe4e8e-3f57-4fa7-86f7-d93cefe25e89",
   "metadata": {},
   "outputs": [],
   "source": []
  }
 ],
 "metadata": {
  "kernelspec": {
   "display_name": "Python 3 (ipykernel)",
   "language": "python",
   "name": "python3"
  },
  "language_info": {
   "codemirror_mode": {
    "name": "ipython",
    "version": 3
   },
   "file_extension": ".py",
   "mimetype": "text/x-python",
   "name": "python",
   "nbconvert_exporter": "python",
   "pygments_lexer": "ipython3",
   "version": "3.9.19"
  }
 },
 "nbformat": 4,
 "nbformat_minor": 5
}
