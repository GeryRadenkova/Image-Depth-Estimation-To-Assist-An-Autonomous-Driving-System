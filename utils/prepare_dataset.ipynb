{
 "cells": [
  {
   "cell_type": "code",
   "execution_count": 8,
   "id": "b2745697-63cd-47cb-af82-2dfcfd7a46a6",
   "metadata": {},
   "outputs": [],
   "source": [
    "import cv2\n",
    "import numpy as np\n",
    "import matplotlib.pyplot as plt\n",
    "import os\n",
    "import glob"
   ]
  },
  {
   "cell_type": "code",
   "execution_count": 2,
   "id": "3334bcf1-397c-483e-ab36-14ee531d952b",
   "metadata": {},
   "outputs": [],
   "source": [
    "x, y, width, height = 450, 30, 1024, 768\n",
    "\n",
    "num_folders = 8\n",
    "images_per_folder = 2354\n",
    "base_output_dir = \"D:/dataset/train/data_train\"\n",
    "for i in range(num_folders):\n",
    "    folder_path = f\"{base_output_dir}/data_{i+1}\"\n",
    "    os.makedirs(folder_path, exist_ok=True)\n",
    "\n",
    "for idx, filename in enumerate(glob.glob(\"D:/dataset/data/images/*.jpg\")):\n",
    "    filename = filename.replace(os.sep, \"/\")\n",
    "    depth_filename = filename.replace(\"images\", \"scans\")\n",
    "    depth_filename = depth_filename.replace(\"frame\", \"scan\")\n",
    "    file = (filename.split(\"/\")[-1]).rsplit(\".\")[0]\n",
    "    file = file.replace(\"frame_\", \"\")\n",
    "    \n",
    "    if not os.path.isfile(depth_filename):\n",
    "        print(filename, \"scan not found\")\n",
    "        continue\n",
    "    \n",
    "    # Specifying a folder based on the index\n",
    "    folder_idx = idx // images_per_folder\n",
    "    if folder_idx >= num_folders:\n",
    "        print(\"Warning: More images than expected. Adjust the number of folders or images_per_folder.\")\n",
    "        break\n",
    "    \n",
    "    output_folder = f\"{base_output_dir}/data_{folder_idx+1}\"\n",
    "    \n",
    "    image = cv2.imread(filename)\n",
    "    depth = cv2.imread(depth_filename)\n",
    "    mask = cv2.inRange(depth[y:y+height, x:x+width], (0), (0))\n",
    "    dst = cv2.inpaint(depth[y:y+height, x:x+width], mask, 3, cv2.INPAINT_TELEA)\n",
    "    \n",
    "    cv2.imwrite(f\"{output_folder}/{file}.jpg\", image[y:y+height, x:x+width])\n",
    "    cv2.imwrite(f\"{output_folder}/{file}.png\", dst)"
   ]
  },
  {
   "cell_type": "code",
   "execution_count": 5,
   "id": "70f644bb-b12a-4609-bf1c-f460a97499d8",
   "metadata": {},
   "outputs": [],
   "source": [
    "%run datasets.ipynb"
   ]
  },
  {
   "cell_type": "code",
   "execution_count": 6,
   "id": "734b247a-6bdf-4d64-a508-e8106288bd07",
   "metadata": {},
   "outputs": [],
   "source": [
    "write_csv(\"D:/dataset/train/data_train.csv\", \"/*/*.jpg\", (\".jpg\", \".png\"))"
   ]
  },
  {
   "cell_type": "code",
   "execution_count": 9,
   "id": "7cd9f8c2-0c1f-43e4-b858-6f7696f026c7",
   "metadata": {},
   "outputs": [],
   "source": [
    "for filename in glob.glob(\"D:/dataset/train/data_train/*/*\"):\n",
    "    image = cv2.imread(filename)\n",
    "    h, w, _ = image.shape\n",
    "    if h != 240 or w != 320:\n",
    "        image = cv2.resize(image, (320, 240))\n",
    "        cv2.imwrite(filename, image)"
   ]
  },
  {
   "cell_type": "code",
   "execution_count": null,
   "id": "fe21d3d3-f56b-403b-9a84-e8e07c4bbb37",
   "metadata": {},
   "outputs": [],
   "source": [
    "mind = np.inf\n",
    "maxd = -np.inf\n",
    "\n",
    "for filename in glob.glob(\"D:/dataset/train/data_train/*/*.png\"):\n",
    "    image = cv2.imread(filename)\n",
    "    mind = min(mind, np.min(image))\n",
    "    maxd = max(maxd, np.max(image))\n",
    "\n",
    "print(mind, maxd)"
   ]
  }
 ],
 "metadata": {
  "kernelspec": {
   "display_name": "Python 3 (ipykernel)",
   "language": "python",
   "name": "python3"
  },
  "language_info": {
   "codemirror_mode": {
    "name": "ipython",
    "version": 3
   },
   "file_extension": ".py",
   "mimetype": "text/x-python",
   "name": "python",
   "nbconvert_exporter": "python",
   "pygments_lexer": "ipython3",
   "version": "3.9.19"
  }
 },
 "nbformat": 4,
 "nbformat_minor": 5
}
